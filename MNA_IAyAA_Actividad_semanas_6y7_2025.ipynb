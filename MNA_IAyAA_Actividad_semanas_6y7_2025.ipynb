{
  "cells": [
    {
      "cell_type": "markdown",
      "metadata": {
        "id": "view-in-github",
        "colab_type": "text"
      },
      "source": [
        "<a href=\"https://colab.research.google.com/github/CarlosRochaCx/MNA/blob/main/MNA_IAyAA_Actividad_semanas_6y7_2025.ipynb\" target=\"_parent\"><img src=\"https://colab.research.google.com/assets/colab-badge.svg\" alt=\"Open In Colab\"/></a>"
      ]
    },
    {
      "cell_type": "markdown",
      "metadata": {
        "id": "cCgXoRxlVFi0"
      },
      "source": [
        "# **Maestría en Inteligencia Artificial Aplicada**\n",
        "\n",
        "## **Curso: Inteligencia Artificial y Aprendizaje Automático**\n",
        "\n",
        "### Tecnológico de Monterrey\n",
        "\n",
        "### Prof Luis Eduardo Falcón Morales\n",
        "\n",
        "## Adtividad de Semanas 6 y 7\n",
        "\n",
        "### **Campañas publicitarias en redes sociales - Modelos de Regresión**\n"
      ]
    },
    {
      "cell_type": "markdown",
      "metadata": {
        "id": "P2p9VQXDtFnZ"
      },
      "source": [
        "\n",
        "### **Nombres y Matrículas:**\n",
        "\n",
        "\n",
        "*   Elemento de lista\n",
        "*   Elemento de lista\n",
        "*   Elemento de lista\n"
      ]
    },
    {
      "cell_type": "markdown",
      "metadata": {
        "id": "EZ_5sfaamvHY"
      },
      "source": [
        "### **Trabajaremos con el archivo \"dataset_Facebook.csv\" que encuentras en la siguiente liga:**\n",
        "\n",
        "https://archive.ics.uci.edu/dataset/368/facebook+metrics\n",
        "\n",
        "### **Estos datos están asociados al siguiente artículo de Moro et.al. de ELSEVIER, que deberás descargar para contestar varias de las preguntas de esta actividad (el acceso es sin costo alguno):**\n",
        "\n",
        "https://www.semanticscholar.org/paper/Predicting-social-media-performance-metrics-and-of-Moro-Rita/dec55692590820754b53c916e29bb2b42c0e5104\n"
      ]
    },
    {
      "cell_type": "markdown",
      "metadata": {
        "id": "gOoOtosZ4bzA"
      },
      "source": [
        "## **NOTA: No modifiques el código, salvo en las partes que se te indica.**"
      ]
    },
    {
      "cell_type": "code",
      "execution_count": 1,
      "metadata": {
        "id": "9MZs9gKJ1fWZ"
      },
      "outputs": [],
      "source": [
        "# Puedes incluir más librerías, de ser necesario:\n",
        "\n",
        "import pandas as pd\n",
        "import matplotlib.pyplot as plt\n",
        "import numpy as np\n",
        "\n",
        "from sklearn.model_selection import train_test_split\n",
        "from sklearn.pipeline import Pipeline\n",
        "from sklearn.compose import ColumnTransformer\n",
        "from sklearn.impute import SimpleImputer\n",
        "from sklearn.preprocessing import OneHotEncoder, MinMaxScaler, OrdinalEncoder\n",
        "\n",
        "from sklearn.ensemble import RandomForestRegressor\n",
        "from xgboost import XGBRegressor\n",
        "from sklearn.neural_network import MLPRegressor\n",
        "from sklearn.svm import SVR\n",
        "\n",
        "from sklearn import metrics\n",
        "from sklearn.model_selection import RepeatedKFold\n",
        "from sklearn.model_selection import cross_validate\n",
        "from sklearn.metrics import mean_squared_error\n",
        "from sklearn.model_selection import learning_curve\n",
        "\n",
        "from sklearn.preprocessing import OneHotEncoder, OrdinalEncoder, StandardScaler\n",
        "from sklearn.base import BaseEstimator, TransformerMixin\n",
        "from sklearn.metrics import mean_squared_error, r2_score\n",
        "\n",
        "np.random.seed(0)\n",
        "\n",
        "import warnings\n",
        "warnings.filterwarnings('ignore')"
      ]
    },
    {
      "cell_type": "markdown",
      "metadata": {
        "id": "wLK5tyC0afDk"
      },
      "source": [
        "## **Ejercicio 1**\n"
      ]
    },
    {
      "cell_type": "markdown",
      "metadata": {
        "id": "8pcpweI8aie8"
      },
      "source": [
        "### **De acuerdo al artículo de Moro et.al. de ELSEVIER, contesta las siguientes preguntas:**\n",
        "\n",
        "*   **a. ¿Cuál es el objetivo del problema que se plantea en el artículo?**\n"
      ]
    },
    {
      "cell_type": "markdown",
      "metadata": {
        "id": "WIqvDWS4tFF2"
      },
      "source": [
        "### ++++++++ Inicia la sección de agregar texto: +++++++++++\n",
        "\n",
        "El objetivo principal del artículo es crear un modelo que pueda predecir cómo van a funcionar las publicaciones en la página de Facebook de una marca antes de que se publiquen. Para hacerlo, se usaron técnicas de minería de datos y se analizaron siete características de cada publicación, como el tipo de contenido, el día de la semana y si la publicación fue pagada o no. Con esta información, el modelo intenta anticipar el nivel de interacción que tendrá cada publicación, como la cantidad de personas que la verán o interactuarán con ella.\n",
        "\n",
        "Además de hacer estas predicciones, el estudio busca ayudar a los encargados de marketing a tomar mejores decisiones sobre qué tipo de contenido publicar para tener mayor impacto en redes sociales. También se analiza cómo estas decisiones pueden ayudar a fortalecer la imagen de la marca, ya que una buena estrategia de publicaciones puede aumentar la confianza y el reconocimiento del público hacia la empresa.\n",
        "\n",
        "### ++++++++ Termina la sección de agregar texto. +++++++++++"
      ]
    },
    {
      "cell_type": "markdown",
      "metadata": {
        "id": "DbSEBatds8Vu"
      },
      "source": [
        "\n",
        "*   **b. Describe a continuación el significado de cada una de las 8 variables con la cuales trabajaremos, de acuerdo a la información de las Tablas 2 y 3 del artículo de Moro et.al.**"
      ]
    },
    {
      "cell_type": "markdown",
      "metadata": {
        "id": "tHWhAUezdc-E"
      },
      "source": [
        "### ++++++++ Inicia la sección de agregar texto: +++++++++++\n",
        "\n",
        "*   **Category**: Caracterización manual del contenido: Acción (ofertas especiales o concursos), producto (publicidad directa, contenido explícitamente de una marca) o inspiración (contenido no relacionado a alguna marca).\n",
        "\n",
        "\n",
        "*   **Page total likes**: Número de personas que le dieron \"me gusta\" a la página de la compañía.\n",
        "\n",
        "\n",
        "*   **Type**: Tipo de contenido en la publicación. (Un enlace, fotografía, estatus o video)\n",
        "\n",
        "\n",
        "*   **Post month**: Indica el mes en el que se hizo la publicación.\n",
        "\n",
        "\n",
        "*   **Post hour**: Indica la hora en el que se hizo la publicación.\n",
        "\n",
        "\n",
        "*   **Post weekday**: Indica el día de la semana en el que se hizo la publicación.\n",
        "\n",
        "\n",
        "*   **Paid**: Indica si la compaña pagó a Facebook por publicidad.\n",
        "\n",
        "\n",
        "*   **Lifetime post consumers**: Número de personas que le dieron clic a cualquier parte de la publicación.\n",
        "\n",
        "\n",
        "\n",
        "### ++++++++ Termina la sección de agregar texto. +++++++++++"
      ]
    },
    {
      "cell_type": "markdown",
      "metadata": {
        "id": "N7aMmfvpWS2b"
      },
      "source": [
        "### **En esta actividad trabajarás solamente con el ajuste de modelos, por lo que la parte de procesamiento no la debes modificar. Solo haremos unos pequeños ajustes.**"
      ]
    },
    {
      "cell_type": "code",
      "execution_count": 2,
      "metadata": {
        "colab": {
          "base_uri": "https://localhost:8080/"
        },
        "id": "t54cOaw5ShG6",
        "outputId": "736e1dff-c6b4-497c-d130-66a87ce8e142"
      },
      "outputs": [
        {
          "output_type": "stream",
          "name": "stdout",
          "text": [
            "Mounted at /content/drive\n"
          ]
        }
      ],
      "source": [
        "from google.colab import drive\n",
        "drive.mount('/content/drive')"
      ]
    },
    {
      "cell_type": "code",
      "execution_count": 3,
      "metadata": {
        "colab": {
          "base_uri": "https://localhost:8080/",
          "height": 662
        },
        "id": "G8fYoeHruPu5",
        "outputId": "2fbd80fe-53b6-4ee6-e5d2-6db6d08f9b01"
      },
      "outputs": [
        {
          "output_type": "stream",
          "name": "stdout",
          "text": [
            "Total de registros y variables: (500, 19)\n"
          ]
        },
        {
          "output_type": "execute_result",
          "data": {
            "text/plain": [
              "                                                         0       1       2\n",
              "Page total likes                                    139441  139441  139441\n",
              "Type                                                 Photo  Status   Photo\n",
              "Category                                                 2       2       3\n",
              "Post Month                                              12      12      12\n",
              "Post Weekday                                             4       3       3\n",
              "Post Hour                                                3      10       3\n",
              "Paid                                                   0.0     0.0     0.0\n",
              "Lifetime Post Total Reach                             2752   10460    2413\n",
              "Lifetime Post Total Impressions                       5091   19057    4373\n",
              "Lifetime Engaged Users                                 178    1457     177\n",
              "Lifetime Post Consumers                                109    1361     113\n",
              "Lifetime Post Consumptions                             159    1674     154\n",
              "Lifetime Post Impressions by people who have li...    3078   11710    2812\n",
              "Lifetime Post reach by people who like your Page      1640    6112    1503\n",
              "Lifetime People who have liked your Page and en...     119    1108     132\n",
              "comment                                                  4       5       0\n",
              "like                                                  79.0   130.0    66.0\n",
              "share                                                 17.0    29.0    14.0\n",
              "Total Interactions                                     100     164      80"
            ],
            "text/html": [
              "\n",
              "  <div id=\"df-3caba7a0-3d6d-405e-8929-b984f1f65b98\" class=\"colab-df-container\">\n",
              "    <div>\n",
              "<style scoped>\n",
              "    .dataframe tbody tr th:only-of-type {\n",
              "        vertical-align: middle;\n",
              "    }\n",
              "\n",
              "    .dataframe tbody tr th {\n",
              "        vertical-align: top;\n",
              "    }\n",
              "\n",
              "    .dataframe thead th {\n",
              "        text-align: right;\n",
              "    }\n",
              "</style>\n",
              "<table border=\"1\" class=\"dataframe\">\n",
              "  <thead>\n",
              "    <tr style=\"text-align: right;\">\n",
              "      <th></th>\n",
              "      <th>0</th>\n",
              "      <th>1</th>\n",
              "      <th>2</th>\n",
              "    </tr>\n",
              "  </thead>\n",
              "  <tbody>\n",
              "    <tr>\n",
              "      <th>Page total likes</th>\n",
              "      <td>139441</td>\n",
              "      <td>139441</td>\n",
              "      <td>139441</td>\n",
              "    </tr>\n",
              "    <tr>\n",
              "      <th>Type</th>\n",
              "      <td>Photo</td>\n",
              "      <td>Status</td>\n",
              "      <td>Photo</td>\n",
              "    </tr>\n",
              "    <tr>\n",
              "      <th>Category</th>\n",
              "      <td>2</td>\n",
              "      <td>2</td>\n",
              "      <td>3</td>\n",
              "    </tr>\n",
              "    <tr>\n",
              "      <th>Post Month</th>\n",
              "      <td>12</td>\n",
              "      <td>12</td>\n",
              "      <td>12</td>\n",
              "    </tr>\n",
              "    <tr>\n",
              "      <th>Post Weekday</th>\n",
              "      <td>4</td>\n",
              "      <td>3</td>\n",
              "      <td>3</td>\n",
              "    </tr>\n",
              "    <tr>\n",
              "      <th>Post Hour</th>\n",
              "      <td>3</td>\n",
              "      <td>10</td>\n",
              "      <td>3</td>\n",
              "    </tr>\n",
              "    <tr>\n",
              "      <th>Paid</th>\n",
              "      <td>0.0</td>\n",
              "      <td>0.0</td>\n",
              "      <td>0.0</td>\n",
              "    </tr>\n",
              "    <tr>\n",
              "      <th>Lifetime Post Total Reach</th>\n",
              "      <td>2752</td>\n",
              "      <td>10460</td>\n",
              "      <td>2413</td>\n",
              "    </tr>\n",
              "    <tr>\n",
              "      <th>Lifetime Post Total Impressions</th>\n",
              "      <td>5091</td>\n",
              "      <td>19057</td>\n",
              "      <td>4373</td>\n",
              "    </tr>\n",
              "    <tr>\n",
              "      <th>Lifetime Engaged Users</th>\n",
              "      <td>178</td>\n",
              "      <td>1457</td>\n",
              "      <td>177</td>\n",
              "    </tr>\n",
              "    <tr>\n",
              "      <th>Lifetime Post Consumers</th>\n",
              "      <td>109</td>\n",
              "      <td>1361</td>\n",
              "      <td>113</td>\n",
              "    </tr>\n",
              "    <tr>\n",
              "      <th>Lifetime Post Consumptions</th>\n",
              "      <td>159</td>\n",
              "      <td>1674</td>\n",
              "      <td>154</td>\n",
              "    </tr>\n",
              "    <tr>\n",
              "      <th>Lifetime Post Impressions by people who have liked your Page</th>\n",
              "      <td>3078</td>\n",
              "      <td>11710</td>\n",
              "      <td>2812</td>\n",
              "    </tr>\n",
              "    <tr>\n",
              "      <th>Lifetime Post reach by people who like your Page</th>\n",
              "      <td>1640</td>\n",
              "      <td>6112</td>\n",
              "      <td>1503</td>\n",
              "    </tr>\n",
              "    <tr>\n",
              "      <th>Lifetime People who have liked your Page and engaged with your post</th>\n",
              "      <td>119</td>\n",
              "      <td>1108</td>\n",
              "      <td>132</td>\n",
              "    </tr>\n",
              "    <tr>\n",
              "      <th>comment</th>\n",
              "      <td>4</td>\n",
              "      <td>5</td>\n",
              "      <td>0</td>\n",
              "    </tr>\n",
              "    <tr>\n",
              "      <th>like</th>\n",
              "      <td>79.0</td>\n",
              "      <td>130.0</td>\n",
              "      <td>66.0</td>\n",
              "    </tr>\n",
              "    <tr>\n",
              "      <th>share</th>\n",
              "      <td>17.0</td>\n",
              "      <td>29.0</td>\n",
              "      <td>14.0</td>\n",
              "    </tr>\n",
              "    <tr>\n",
              "      <th>Total Interactions</th>\n",
              "      <td>100</td>\n",
              "      <td>164</td>\n",
              "      <td>80</td>\n",
              "    </tr>\n",
              "  </tbody>\n",
              "</table>\n",
              "</div>\n",
              "    <div class=\"colab-df-buttons\">\n",
              "\n",
              "  <div class=\"colab-df-container\">\n",
              "    <button class=\"colab-df-convert\" onclick=\"convertToInteractive('df-3caba7a0-3d6d-405e-8929-b984f1f65b98')\"\n",
              "            title=\"Convert this dataframe to an interactive table.\"\n",
              "            style=\"display:none;\">\n",
              "\n",
              "  <svg xmlns=\"http://www.w3.org/2000/svg\" height=\"24px\" viewBox=\"0 -960 960 960\">\n",
              "    <path d=\"M120-120v-720h720v720H120Zm60-500h600v-160H180v160Zm220 220h160v-160H400v160Zm0 220h160v-160H400v160ZM180-400h160v-160H180v160Zm440 0h160v-160H620v160ZM180-180h160v-160H180v160Zm440 0h160v-160H620v160Z\"/>\n",
              "  </svg>\n",
              "    </button>\n",
              "\n",
              "  <style>\n",
              "    .colab-df-container {\n",
              "      display:flex;\n",
              "      gap: 12px;\n",
              "    }\n",
              "\n",
              "    .colab-df-convert {\n",
              "      background-color: #E8F0FE;\n",
              "      border: none;\n",
              "      border-radius: 50%;\n",
              "      cursor: pointer;\n",
              "      display: none;\n",
              "      fill: #1967D2;\n",
              "      height: 32px;\n",
              "      padding: 0 0 0 0;\n",
              "      width: 32px;\n",
              "    }\n",
              "\n",
              "    .colab-df-convert:hover {\n",
              "      background-color: #E2EBFA;\n",
              "      box-shadow: 0px 1px 2px rgba(60, 64, 67, 0.3), 0px 1px 3px 1px rgba(60, 64, 67, 0.15);\n",
              "      fill: #174EA6;\n",
              "    }\n",
              "\n",
              "    .colab-df-buttons div {\n",
              "      margin-bottom: 4px;\n",
              "    }\n",
              "\n",
              "    [theme=dark] .colab-df-convert {\n",
              "      background-color: #3B4455;\n",
              "      fill: #D2E3FC;\n",
              "    }\n",
              "\n",
              "    [theme=dark] .colab-df-convert:hover {\n",
              "      background-color: #434B5C;\n",
              "      box-shadow: 0px 1px 3px 1px rgba(0, 0, 0, 0.15);\n",
              "      filter: drop-shadow(0px 1px 2px rgba(0, 0, 0, 0.3));\n",
              "      fill: #FFFFFF;\n",
              "    }\n",
              "  </style>\n",
              "\n",
              "    <script>\n",
              "      const buttonEl =\n",
              "        document.querySelector('#df-3caba7a0-3d6d-405e-8929-b984f1f65b98 button.colab-df-convert');\n",
              "      buttonEl.style.display =\n",
              "        google.colab.kernel.accessAllowed ? 'block' : 'none';\n",
              "\n",
              "      async function convertToInteractive(key) {\n",
              "        const element = document.querySelector('#df-3caba7a0-3d6d-405e-8929-b984f1f65b98');\n",
              "        const dataTable =\n",
              "          await google.colab.kernel.invokeFunction('convertToInteractive',\n",
              "                                                    [key], {});\n",
              "        if (!dataTable) return;\n",
              "\n",
              "        const docLinkHtml = 'Like what you see? Visit the ' +\n",
              "          '<a target=\"_blank\" href=https://colab.research.google.com/notebooks/data_table.ipynb>data table notebook</a>'\n",
              "          + ' to learn more about interactive tables.';\n",
              "        element.innerHTML = '';\n",
              "        dataTable['output_type'] = 'display_data';\n",
              "        await google.colab.output.renderOutput(dataTable, element);\n",
              "        const docLink = document.createElement('div');\n",
              "        docLink.innerHTML = docLinkHtml;\n",
              "        element.appendChild(docLink);\n",
              "      }\n",
              "    </script>\n",
              "  </div>\n",
              "\n",
              "\n",
              "    <div id=\"df-c7999829-52ce-4c02-b9ae-35afa124aad6\">\n",
              "      <button class=\"colab-df-quickchart\" onclick=\"quickchart('df-c7999829-52ce-4c02-b9ae-35afa124aad6')\"\n",
              "                title=\"Suggest charts\"\n",
              "                style=\"display:none;\">\n",
              "\n",
              "<svg xmlns=\"http://www.w3.org/2000/svg\" height=\"24px\"viewBox=\"0 0 24 24\"\n",
              "     width=\"24px\">\n",
              "    <g>\n",
              "        <path d=\"M19 3H5c-1.1 0-2 .9-2 2v14c0 1.1.9 2 2 2h14c1.1 0 2-.9 2-2V5c0-1.1-.9-2-2-2zM9 17H7v-7h2v7zm4 0h-2V7h2v10zm4 0h-2v-4h2v4z\"/>\n",
              "    </g>\n",
              "</svg>\n",
              "      </button>\n",
              "\n",
              "<style>\n",
              "  .colab-df-quickchart {\n",
              "      --bg-color: #E8F0FE;\n",
              "      --fill-color: #1967D2;\n",
              "      --hover-bg-color: #E2EBFA;\n",
              "      --hover-fill-color: #174EA6;\n",
              "      --disabled-fill-color: #AAA;\n",
              "      --disabled-bg-color: #DDD;\n",
              "  }\n",
              "\n",
              "  [theme=dark] .colab-df-quickchart {\n",
              "      --bg-color: #3B4455;\n",
              "      --fill-color: #D2E3FC;\n",
              "      --hover-bg-color: #434B5C;\n",
              "      --hover-fill-color: #FFFFFF;\n",
              "      --disabled-bg-color: #3B4455;\n",
              "      --disabled-fill-color: #666;\n",
              "  }\n",
              "\n",
              "  .colab-df-quickchart {\n",
              "    background-color: var(--bg-color);\n",
              "    border: none;\n",
              "    border-radius: 50%;\n",
              "    cursor: pointer;\n",
              "    display: none;\n",
              "    fill: var(--fill-color);\n",
              "    height: 32px;\n",
              "    padding: 0;\n",
              "    width: 32px;\n",
              "  }\n",
              "\n",
              "  .colab-df-quickchart:hover {\n",
              "    background-color: var(--hover-bg-color);\n",
              "    box-shadow: 0 1px 2px rgba(60, 64, 67, 0.3), 0 1px 3px 1px rgba(60, 64, 67, 0.15);\n",
              "    fill: var(--button-hover-fill-color);\n",
              "  }\n",
              "\n",
              "  .colab-df-quickchart-complete:disabled,\n",
              "  .colab-df-quickchart-complete:disabled:hover {\n",
              "    background-color: var(--disabled-bg-color);\n",
              "    fill: var(--disabled-fill-color);\n",
              "    box-shadow: none;\n",
              "  }\n",
              "\n",
              "  .colab-df-spinner {\n",
              "    border: 2px solid var(--fill-color);\n",
              "    border-color: transparent;\n",
              "    border-bottom-color: var(--fill-color);\n",
              "    animation:\n",
              "      spin 1s steps(1) infinite;\n",
              "  }\n",
              "\n",
              "  @keyframes spin {\n",
              "    0% {\n",
              "      border-color: transparent;\n",
              "      border-bottom-color: var(--fill-color);\n",
              "      border-left-color: var(--fill-color);\n",
              "    }\n",
              "    20% {\n",
              "      border-color: transparent;\n",
              "      border-left-color: var(--fill-color);\n",
              "      border-top-color: var(--fill-color);\n",
              "    }\n",
              "    30% {\n",
              "      border-color: transparent;\n",
              "      border-left-color: var(--fill-color);\n",
              "      border-top-color: var(--fill-color);\n",
              "      border-right-color: var(--fill-color);\n",
              "    }\n",
              "    40% {\n",
              "      border-color: transparent;\n",
              "      border-right-color: var(--fill-color);\n",
              "      border-top-color: var(--fill-color);\n",
              "    }\n",
              "    60% {\n",
              "      border-color: transparent;\n",
              "      border-right-color: var(--fill-color);\n",
              "    }\n",
              "    80% {\n",
              "      border-color: transparent;\n",
              "      border-right-color: var(--fill-color);\n",
              "      border-bottom-color: var(--fill-color);\n",
              "    }\n",
              "    90% {\n",
              "      border-color: transparent;\n",
              "      border-bottom-color: var(--fill-color);\n",
              "    }\n",
              "  }\n",
              "</style>\n",
              "\n",
              "      <script>\n",
              "        async function quickchart(key) {\n",
              "          const quickchartButtonEl =\n",
              "            document.querySelector('#' + key + ' button');\n",
              "          quickchartButtonEl.disabled = true;  // To prevent multiple clicks.\n",
              "          quickchartButtonEl.classList.add('colab-df-spinner');\n",
              "          try {\n",
              "            const charts = await google.colab.kernel.invokeFunction(\n",
              "                'suggestCharts', [key], {});\n",
              "          } catch (error) {\n",
              "            console.error('Error during call to suggestCharts:', error);\n",
              "          }\n",
              "          quickchartButtonEl.classList.remove('colab-df-spinner');\n",
              "          quickchartButtonEl.classList.add('colab-df-quickchart-complete');\n",
              "        }\n",
              "        (() => {\n",
              "          let quickchartButtonEl =\n",
              "            document.querySelector('#df-c7999829-52ce-4c02-b9ae-35afa124aad6 button');\n",
              "          quickchartButtonEl.style.display =\n",
              "            google.colab.kernel.accessAllowed ? 'block' : 'none';\n",
              "        })();\n",
              "      </script>\n",
              "    </div>\n",
              "\n",
              "    </div>\n",
              "  </div>\n"
            ],
            "application/vnd.google.colaboratory.intrinsic+json": {
              "type": "dataframe",
              "variable_name": "data",
              "summary": "{\n  \"name\": \"data\",\n  \"rows\": 500,\n  \"fields\": [\n    {\n      \"column\": \"Page total likes\",\n      \"properties\": {\n        \"dtype\": \"number\",\n        \"std\": 16272,\n        \"min\": 81370,\n        \"max\": 139441,\n        \"num_unique_values\": 90,\n        \"samples\": [\n          123047,\n          133594,\n          102112\n        ],\n        \"semantic_type\": \"\",\n        \"description\": \"\"\n      }\n    },\n    {\n      \"column\": \"Type\",\n      \"properties\": {\n        \"dtype\": \"category\",\n        \"num_unique_values\": 4,\n        \"samples\": [\n          \"Status\",\n          \"Video\",\n          \"Photo\"\n        ],\n        \"semantic_type\": \"\",\n        \"description\": \"\"\n      }\n    },\n    {\n      \"column\": \"Category\",\n      \"properties\": {\n        \"dtype\": \"number\",\n        \"std\": 0,\n        \"min\": 1,\n        \"max\": 3,\n        \"num_unique_values\": 3,\n        \"samples\": [\n          2,\n          3,\n          1\n        ],\n        \"semantic_type\": \"\",\n        \"description\": \"\"\n      }\n    },\n    {\n      \"column\": \"Post Month\",\n      \"properties\": {\n        \"dtype\": \"number\",\n        \"std\": 3,\n        \"min\": 1,\n        \"max\": 12,\n        \"num_unique_values\": 12,\n        \"samples\": [\n          2,\n          3,\n          12\n        ],\n        \"semantic_type\": \"\",\n        \"description\": \"\"\n      }\n    },\n    {\n      \"column\": \"Post Weekday\",\n      \"properties\": {\n        \"dtype\": \"number\",\n        \"std\": 2,\n        \"min\": 1,\n        \"max\": 7,\n        \"num_unique_values\": 7,\n        \"samples\": [\n          4,\n          3,\n          6\n        ],\n        \"semantic_type\": \"\",\n        \"description\": \"\"\n      }\n    },\n    {\n      \"column\": \"Post Hour\",\n      \"properties\": {\n        \"dtype\": \"number\",\n        \"std\": 4,\n        \"min\": 1,\n        \"max\": 23,\n        \"num_unique_values\": 22,\n        \"samples\": [\n          3,\n          14,\n          8\n        ],\n        \"semantic_type\": \"\",\n        \"description\": \"\"\n      }\n    },\n    {\n      \"column\": \"Paid\",\n      \"properties\": {\n        \"dtype\": \"number\",\n        \"std\": 0.4487388868806484,\n        \"min\": 0.0,\n        \"max\": 1.0,\n        \"num_unique_values\": 2,\n        \"samples\": [\n          1.0,\n          0.0\n        ],\n        \"semantic_type\": \"\",\n        \"description\": \"\"\n      }\n    },\n    {\n      \"column\": \"Lifetime Post Total Reach\",\n      \"properties\": {\n        \"dtype\": \"number\",\n        \"std\": 22740,\n        \"min\": 238,\n        \"max\": 180480,\n        \"num_unique_values\": 485,\n        \"samples\": [\n          4094,\n          4800\n        ],\n        \"semantic_type\": \"\",\n        \"description\": \"\"\n      }\n    },\n    {\n      \"column\": \"Lifetime Post Total Impressions\",\n      \"properties\": {\n        \"dtype\": \"number\",\n        \"std\": 76803,\n        \"min\": 570,\n        \"max\": 1110282,\n        \"num_unique_values\": 494,\n        \"samples\": [\n          665792,\n          46054\n        ],\n        \"semantic_type\": \"\",\n        \"description\": \"\"\n      }\n    },\n    {\n      \"column\": \"Lifetime Engaged Users\",\n      \"properties\": {\n        \"dtype\": \"number\",\n        \"std\": 985,\n        \"min\": 9,\n        \"max\": 11452,\n        \"num_unique_values\": 414,\n        \"samples\": [\n          1409,\n          951\n        ],\n        \"semantic_type\": \"\",\n        \"description\": \"\"\n      }\n    },\n    {\n      \"column\": \"Lifetime Post Consumers\",\n      \"properties\": {\n        \"dtype\": \"number\",\n        \"std\": 882,\n        \"min\": 9,\n        \"max\": 11328,\n        \"num_unique_values\": 422,\n        \"samples\": [\n          450,\n          542\n        ],\n        \"semantic_type\": \"\",\n        \"description\": \"\"\n      }\n    },\n    {\n      \"column\": \"Lifetime Post Consumptions\",\n      \"properties\": {\n        \"dtype\": \"number\",\n        \"std\": 2000,\n        \"min\": 9,\n        \"max\": 19779,\n        \"num_unique_values\": 440,\n        \"samples\": [\n          286,\n          2085\n        ],\n        \"semantic_type\": \"\",\n        \"description\": \"\"\n      }\n    },\n    {\n      \"column\": \"Lifetime Post Impressions by people who have liked your Page\",\n      \"properties\": {\n        \"dtype\": \"number\",\n        \"std\": 59791,\n        \"min\": 567,\n        \"max\": 1107833,\n        \"num_unique_values\": 491,\n        \"samples\": [\n          648611,\n          7549\n        ],\n        \"semantic_type\": \"\",\n        \"description\": \"\"\n      }\n    },\n    {\n      \"column\": \"Lifetime Post reach by people who like your Page\",\n      \"properties\": {\n        \"dtype\": \"number\",\n        \"std\": 7682,\n        \"min\": 236,\n        \"max\": 51456,\n        \"num_unique_values\": 469,\n        \"samples\": [\n          9568,\n          11760\n        ],\n        \"semantic_type\": \"\",\n        \"description\": \"\"\n      }\n    },\n    {\n      \"column\": \"Lifetime People who have liked your Page and engaged with your post\",\n      \"properties\": {\n        \"dtype\": \"number\",\n        \"std\": 612,\n        \"min\": 9,\n        \"max\": 4376,\n        \"num_unique_values\": 382,\n        \"samples\": [\n          1978,\n          137\n        ],\n        \"semantic_type\": \"\",\n        \"description\": \"\"\n      }\n    },\n    {\n      \"column\": \"comment\",\n      \"properties\": {\n        \"dtype\": \"number\",\n        \"std\": 21,\n        \"min\": 0,\n        \"max\": 372,\n        \"num_unique_values\": 46,\n        \"samples\": [\n          25,\n          26\n        ],\n        \"semantic_type\": \"\",\n        \"description\": \"\"\n      }\n    },\n    {\n      \"column\": \"like\",\n      \"properties\": {\n        \"dtype\": \"number\",\n        \"std\": 323.3987415906344,\n        \"min\": 0.0,\n        \"max\": 5172.0,\n        \"num_unique_values\": 257,\n        \"samples\": [\n          535.0,\n          25.0\n        ],\n        \"semantic_type\": \"\",\n        \"description\": \"\"\n      }\n    },\n    {\n      \"column\": \"share\",\n      \"properties\": {\n        \"dtype\": \"number\",\n        \"std\": 42.61329215892268,\n        \"min\": 0.0,\n        \"max\": 790.0,\n        \"num_unique_values\": 88,\n        \"samples\": [\n          37.0,\n          17.0\n        ],\n        \"semantic_type\": \"\",\n        \"description\": \"\"\n      }\n    },\n    {\n      \"column\": \"Total Interactions\",\n      \"properties\": {\n        \"dtype\": \"number\",\n        \"std\": 380,\n        \"min\": 0,\n        \"max\": 6334,\n        \"num_unique_values\": 280,\n        \"samples\": [\n          199,\n          12\n        ],\n        \"semantic_type\": \"\",\n        \"description\": \"\"\n      }\n    }\n  ]\n}"
            }
          },
          "metadata": {},
          "execution_count": 3
        }
      ],
      "source": [
        "# Cargamos los datos del archivo:\n",
        "\n",
        "data = pd.read_csv('/content/drive/MyDrive/Colab Notebooks/MNA - Maestría en Inteligencia Artificial Aplicada/Inteligencia Artificial y Aprendizaje Automático/Tareas/Actividad Semana 6 y 7/dataset_Facebook.csv', sep=';', header='infer')\n",
        "print('Total de registros y variables:',data.shape)\n",
        "data.head(3).T"
      ]
    },
    {
      "cell_type": "markdown",
      "metadata": {
        "id": "qmprVkJ_u56j"
      },
      "source": [
        "## **Ejercicio 2**"
      ]
    },
    {
      "cell_type": "markdown",
      "metadata": {
        "id": "flldXIo3uX6A"
      },
      "source": [
        "### **Variables relacionadas con el tiempo**\n",
        "\n",
        "### **Recordemos que las variables relacionadas con información del tiempo (meses, semanas, horas) pueden tratarse como variables categóricas o numéricas, dependiendo del contexto. En nuestro caso las variables mes, día de la semana y hora en que se puso el post, podríamos considerarlas como variables categóricas ordinales o bien como nominales. Sin embargo, para recordar cómo se transforman este tipo de variables en numéricas cíclicas, las transformarás a continuación.**\n",
        "\n",
        "### **En la Tabla 3 del artículo de ELSEVIER nos comentan que la variable Post_hour está etiquetada de 0 a 23, por lo que las 24 horas serían las 0 horas, es decir tiene un comportamiento cíclico de 24 horas, que en términos matemáticos se dice que es una variable cíclica módulo 24. Así, las 24 horas será equivalente a las 0 horas. De manera análoga se procede con las variables del mes y el día de la semana.**\n",
        "\n",
        "### **Se comenta en la Tabla 3 del artículo que las variables en relación al mes y día de la semana en que se publicó el post, que son los nombres de los meses y los días de la semana. Sin embargo, en realidad están capturadas como numéricas del 1 al 12 y del 1 al 7, respectivamente.**\n",
        "\n",
        "### **La manera de transformar una variable T cíclica módulo M, es sustituyendo la columna original de la variable T por las siguientes dos columnas. Estas transformaciones están dentro de lo que se llama ingeniería de características (feature engineering):**\n",
        "\n",
        "$Tsin = sin(2*\\pi*T/M)$\n",
        "\n",
        "$Tcos = cos(2*\\pi*T/M)$"
      ]
    },
    {
      "cell_type": "markdown",
      "metadata": {
        "id": "joCe2SKLwl5m"
      },
      "source": [
        "#### **NOTA: En las siguientes celdas donde se indica None, podrás agregar las líneas de código que consideres necesarias.**"
      ]
    },
    {
      "cell_type": "code",
      "execution_count": null,
      "metadata": {
        "id": "-HegyBexvaA8"
      },
      "outputs": [],
      "source": [
        "# Ejercicio 2a:\n",
        "\n",
        "# Define las dos nuevas variables cíclicas, \"hora_sin\" y \"hora_cos\" a partir\n",
        "# de la variable \"Post Hour\" y de acuerdo a como se indicó previamente:\n",
        "\n",
        "\n",
        "# ++++++++++++++ Incluye aquí tu código ++++++++++++++++++++++++++++++\n",
        "\n",
        "hora_sin = None\n",
        "hora_cos = None\n",
        "\n",
        "\n",
        "\n",
        "# +++++++++++++ Tesrmina sección de agregar código +++++++++++++++++++++"
      ]
    },
    {
      "cell_type": "code",
      "execution_count": null,
      "metadata": {
        "id": "_q9bj6tZwi7d"
      },
      "outputs": [],
      "source": [
        "# Ejercicio 2b:\n",
        "\n",
        "# Agrega estas dos nuevas variables al DataFrame de tus datos\n",
        "# y elimina la columna de la variable original \"Post Hour\":\n",
        "\n",
        "# ++++++++++++++ Incluye aquí tu código ++++++++++++++++++++++++++++++\n",
        "\n",
        "None\n",
        "\n",
        "\n",
        "\n",
        "# +++++++++++++ Termina sección de agregar código +++++++++++++++++++++\n"
      ]
    },
    {
      "cell_type": "code",
      "execution_count": null,
      "metadata": {
        "id": "Du0rPKhNnZk5"
      },
      "outputs": [],
      "source": [
        "# Ejercicio 2c.\n",
        "\n",
        "# Transforma de manera análoga la variable \"Post Month\"\n",
        "# agregando mes_sin, mes_cos y eliminando la original.\n",
        "\n",
        "\n",
        "# ++++++++++++++ Incluye aquí tu código ++++++++++++++++++++++++++++++\n",
        "\n",
        "mes_sin = None\n",
        "mes_cos = None\n",
        "\n",
        "\n",
        "\n",
        "# +++++++++++++ Tesrmina sección de agregar código +++++++++++++++++++++\n"
      ]
    },
    {
      "cell_type": "code",
      "execution_count": null,
      "metadata": {
        "id": "9SvwkhX6oi1D"
      },
      "outputs": [],
      "source": [
        "# Ejercicio 2d.\n",
        "\n",
        "# Transforma de manera análoga la variable \"Post Weekday\"\n",
        "# agregando dia_sin, dia_cos y eliminando la original.\n",
        "\n",
        "\n",
        "# ++++++++++++++ Incluye aquí tu código ++++++++++++++++++++++++++++++\n",
        "\n",
        "dia_sin = None\n",
        "dia_cos = None\n",
        "\n",
        "\n",
        "\n",
        "# +++++++++++++ Tesrmina sección de agregar código +++++++++++++++++++++\n"
      ]
    },
    {
      "cell_type": "code",
      "execution_count": null,
      "metadata": {
        "id": "xagfZfU-_PAz"
      },
      "outputs": [],
      "source": [
        "# Veamos lo que tenemos hasta el momento:\n",
        "data.head(3).T"
      ]
    },
    {
      "cell_type": "code",
      "execution_count": null,
      "metadata": {
        "id": "N6m_XqcQnCHP"
      },
      "outputs": [],
      "source": [
        "# De las Tablas 2 y 3 del artículo de ELSEVIER seleccionamos las variables que\n",
        "# trabajaremos en esta Actividad, con el ajuste que acabamos de hacer:\n",
        "\n",
        "# Separamos los datos de entrada (ver Tabla 3 del artículo) y de la variable de salida (ver Tabla 2):\n",
        "X = data[['Page total likes', 'Type', 'Category', 'Paid',\n",
        "          'mes_sin', 'mes_cos', 'dia_sin', 'dia_cos', 'hora_sin', 'hora_cos']]\n",
        "y = data[['Lifetime Post Consumers']]   # Hay 12 variables de salida, pero solo trabajaremos con una de las\n",
        "                                        # que se consideró más importante en el artículo de ELSEVIER.\n",
        "\n",
        "\n",
        "# En esta acrividad trataremos de comparar resultados con lo realizado en\n",
        "# el artículo de Moro et.al., por lo que solo particionaremos en Train y Test.\n",
        "# Particionamos en Train y Test en 80-20:\n",
        "Xtrain, Xtest, ytrain, ytest = train_test_split(X, y, train_size=0.8, shuffle=True, random_state=5)\n",
        "\n",
        "print('Train:', Xtrain.shape, ytrain.shape)\n",
        "print('Test:', Xtest.shape, ytest.shape)\n"
      ]
    },
    {
      "cell_type": "code",
      "execution_count": null,
      "metadata": {
        "id": "7oog40NRzRSW"
      },
      "outputs": [],
      "source": [
        "Xtrain.describe(include='all').T   # Veamos alguna descripción como datos numéricos del conjunto de entrenamiento.\n",
        "                                   # En particular, las desviaciones estándar (std) desplegadas son las muestrales."
      ]
    },
    {
      "cell_type": "markdown",
      "metadata": {
        "id": "PLNnZzcczZzv"
      },
      "source": [
        "### **Ajuste variable categórica en Pipeline**\n",
        "\n",
        "#### **Veamos un ejemplo de cómo ajustar una variable categórica en la cual uno de sus niveles no tiene suficiente información y que se transforme evitando el filtrado de información. Para ello se deberán reagruparemos los niveles más pequeños hasta obtener un 5% de información.**"
      ]
    },
    {
      "cell_type": "code",
      "execution_count": null,
      "metadata": {
        "id": "bAIeoERKzY7E"
      },
      "outputs": [],
      "source": [
        "# Obtengamos las etiquetas únicas de data['Type'] ordenadas de mayor a menor frecuencia:\n",
        "Xtrain['Type'].unique()"
      ]
    },
    {
      "cell_type": "code",
      "execution_count": null,
      "metadata": {
        "id": "lXg9rSO8zxr6"
      },
      "outputs": [],
      "source": [
        "Xtrain['Type'].value_counts(normalize=True)  # Siguiendo la política de que cada nivel de una variable tenga\n",
        "                                             # al menos el 5% de información, agruparemos los casos \"Link\"\n",
        "                                             # y \"Video\" en un nuevo nivel que podría interpretarse como \"Otros\"."
      ]
    },
    {
      "cell_type": "markdown",
      "metadata": {
        "id": "yO4REeboAZ42"
      },
      "source": [
        "### **Para ello usaremos la siguiente Clase, que ayude a cuidar el filtrado de información durante el proceso de entrenamiento, en particular, al aplicar validación cruzada.**"
      ]
    },
    {
      "cell_type": "code",
      "execution_count": null,
      "metadata": {
        "id": "8qmVHp96qcAg"
      },
      "outputs": [],
      "source": [
        "# Transformador personalizado para agrupar categorías poco frecuentes\n",
        "# en la variable \"Type\", a saber, \"Link\" y \"Video\".\n",
        "# Puedes posteriormente ajustar la clase para que de manera automática\n",
        "# se detecte que cada nivel tiene al menos un porcentaje de umbral determinado.\n",
        "\n",
        "class TypeGrouper(BaseEstimator, TransformerMixin):\n",
        "    def __init__(self):\n",
        "        self.groups_to_replace = ['Link','Video']\n",
        "\n",
        "    def fit(self, X, y=None):\n",
        "        return self\n",
        "\n",
        "    def transform(self, X):\n",
        "        X_copy = X.copy()\n",
        "        if not isinstance(X_copy, pd.DataFrame):\n",
        "            X_copy = pd.DataFrame(X_copy, columns=['Type'])\n",
        "\n",
        "        X_copy.loc[X_copy['Type'].isin(self.groups_to_replace), 'Type'] = 'Otros'\n",
        "        return X_copy\n"
      ]
    },
    {
      "cell_type": "markdown",
      "metadata": {
        "id": "hEvpbd7kBM7p"
      },
      "source": [
        "## **Ejercicio 3**"
      ]
    },
    {
      "cell_type": "markdown",
      "metadata": {
        "id": "UDgEVbfhBOTh"
      },
      "source": [
        "### **Utiliza un LLM (indica cuál o cuáles usastes) para explicar cada línea de código de la celda anterior.**"
      ]
    },
    {
      "cell_type": "markdown",
      "metadata": {
        "id": "xLNWRgygBx__"
      },
      "source": [
        "### ++++++++ Inicia la sección de agregar texto: +++++++++++\n",
        "\n",
        "\n",
        "*   Elemento de lista\n",
        "*   Elemento de lista\n",
        "\n",
        "etc ...\n",
        "\n",
        "\n",
        "### ++++++++ Termina la sección de agregar texto. +++++++++++"
      ]
    },
    {
      "cell_type": "markdown",
      "metadata": {
        "id": "VbrYu10q0lUa"
      },
      "source": [
        "### **Transformación en la Variable de Salida**\n",
        "\n"
      ]
    },
    {
      "cell_type": "code",
      "execution_count": null,
      "metadata": {
        "id": "k-gb_Jwa0_6W"
      },
      "outputs": [],
      "source": [
        "# Histograma que muestra un claro sesgo positivo en la variable objetivo:\n",
        "ytrain.hist();"
      ]
    },
    {
      "cell_type": "code",
      "execution_count": null,
      "metadata": {
        "id": "L9BvLilz1EfC"
      },
      "outputs": [],
      "source": [
        "ytrainlog = np.log(ytrain)   # Recordemos que nuestra variable de salida en un problema\n",
        "ytrainlog.hist();            # de Regresión se recomienda que esté aproximadamente\n",
        "                             # acampanada, por lo que la ajustaremos con el logaritmo\n",
        "                             # natural como primera aproximación."
      ]
    },
    {
      "cell_type": "code",
      "execution_count": null,
      "metadata": {
        "id": "B9Zm5VeA1EJK"
      },
      "outputs": [],
      "source": [
        "# Para una primera aproximación, podemos decir que se ajusta de manera aceptable\n",
        "# la distribución con logaritmo a una acampanada.\n",
        "# Procedemos entonces de la misma manera con Test:\n",
        "\n",
        "ytestlog = np.log(ytest)"
      ]
    },
    {
      "cell_type": "code",
      "execution_count": null,
      "metadata": {
        "id": "Cni8tcC_y_36"
      },
      "outputs": [],
      "source": [
        "ytestlog.describe().T  # información de la variable objetivo transformada."
      ]
    },
    {
      "cell_type": "markdown",
      "metadata": {
        "id": "EOytV50MCpu7"
      },
      "source": [
        "### **Pipeline de transformaciones**"
      ]
    },
    {
      "cell_type": "code",
      "execution_count": null,
      "metadata": {
        "id": "XGjwO1zq1JBS"
      },
      "outputs": [],
      "source": [
        "# Aplicaremos lo mínimo de transformaciones.\n",
        "# Las nuevas variables _sin y _cos ya quedaron escaladas entre -1 y +1, por\n",
        "# lo que podemos dejarlas así y solamente cuidar sus posibles datos perdidos\n",
        "# en datos futuros.\n",
        "\n",
        "num_pipe = Pipeline(steps = [('numImp', SimpleImputer(strategy='median')),\n",
        "                             ('scaler', MinMaxScaler())\n",
        "                             ])\n",
        "num_pipe_nombres = ['Page total likes']\n",
        "\n",
        "\n",
        "# Transformación del factor categórico de entrada \"Type\":\n",
        "catMap_pipe = Pipeline(steps = [('typeMap', Pipeline([('grouper', TypeGrouper()),\n",
        "                                                      ('encoder', OneHotEncoder(handle_unknown='ignore'))\n",
        "                                                      ]))])\n",
        "catMap_pipe_nombres = ['Type']\n",
        "\n",
        "\n",
        "# Las nominales las transformamos con One-Hot-Encoder:\n",
        "nom_pipe = Pipeline(steps = [('NomImp', SimpleImputer(strategy='most_frequent')),\n",
        "                             ('ohe', OneHotEncoder(drop='first',\n",
        "                                                   handle_unknown='ignore',\n",
        "                                                   ))])\n",
        "nom_pipe_nombres = ['Category', 'Paid']\n",
        "\n",
        "\n",
        "# Variables numéricas cíclicas:\n",
        "mes_pipe = Pipeline(steps = [('MesImp', SimpleImputer(strategy='mean'))])\n",
        "mes_pipe_nombres = ['mes_sin', 'mes_cos']\n",
        "\n",
        "dia_pipe = Pipeline(steps = [('DiaImp', SimpleImputer(strategy='mean'))])\n",
        "dia_pipe_nombres = ['dia_sin', 'dia_cos']\n",
        "\n",
        "hora_pipe = Pipeline(steps = [('HoraImp', SimpleImputer(strategy='mean'))])\n",
        "hora_pipe_nombres = ['hora_sin', 'hora_cos']\n",
        "\n",
        "\n",
        "# Conjuntamos las transformaciones:\n",
        "columnasTransformer = ColumnTransformer(transformers = [('numpow', num_pipe, num_pipe_nombres),\n",
        "                                                        ('catmap', catMap_pipe, catMap_pipe_nombres),\n",
        "                                                        ('catNom', nom_pipe, nom_pipe_nombres),\n",
        "                                                        ('mes', mes_pipe, mes_pipe_nombres),\n",
        "                                                        ('dia', dia_pipe, dia_pipe_nombres),\n",
        "                                                        ('hora', hora_pipe, hora_pipe_nombres)\n",
        "                                                        ],\n",
        "                                        remainder='passthrough')\n"
      ]
    },
    {
      "cell_type": "code",
      "execution_count": null,
      "metadata": {
        "id": "sKbcQOHY3msP"
      },
      "outputs": [],
      "source": [
        "# Solo para saber la nueva cantidad de columnas que tendremos\n",
        "# después de las trasnformaciones:\n",
        "XtrainT = columnasTransformer.fit_transform(Xtrain)  # Ajustamos con Train...\n",
        "print('Variables de entrada original:', Xtrain.shape)\n",
        "print('Variables de entrada transformadas:', XtrainT.shape)"
      ]
    },
    {
      "cell_type": "markdown",
      "metadata": {
        "id": "VrK6xcSUyriz"
      },
      "source": [
        "### **Modelo Base (Baseline)**"
      ]
    },
    {
      "cell_type": "code",
      "execution_count": null,
      "metadata": {
        "id": "882xKf_EyeI9"
      },
      "outputs": [],
      "source": [
        "# Variable objetivo con Log:\n",
        "y_pred_baseline = np.full_like(ytestlog, fill_value=ytrainlog.mean())\n",
        "\n",
        "# RMSE del baseline\n",
        "rmse_baseline = mean_squared_error(ytestlog, y_pred_baseline)\n",
        "print(f\"MSE Baseline (promedio) con Logaritmo: {rmse_baseline:.2f}\")"
      ]
    },
    {
      "cell_type": "markdown",
      "metadata": {
        "id": "a4Ka79ZTyM0_"
      },
      "source": [
        "## **Ejercicio 4**\n"
      ]
    },
    {
      "cell_type": "code",
      "execution_count": null,
      "metadata": {
        "id": "oXpqwlS6lnSS"
      },
      "outputs": [],
      "source": [
        "# Ejercicio 4a.\n",
        "\n",
        "# Al ejecutar las siguientes líneas de código determina si el modelo de\n",
        "# Bosque Aleatorio con sus valores de hiperparámetros predeterminadas está\n",
        "# Subentrenado o Sobreentrenado. De ser así, busca los valores de sus\n",
        "# hiperparámetros que consideres más adecuados para que ya no\n",
        "# esté sub-o-sobreentrenado:\n",
        "\n",
        "\n",
        "# ++++++++++++++ Incluye aquí tu código ++++++++++++++++++++++++++++++\n",
        "\n",
        "\n",
        "elmodelo_RF = RandomForestRegressor(random_state=1)\n",
        "\n",
        "\n",
        "\n",
        "\n",
        "\n",
        "# +++++++++++++ Tesrmina sección de agregar código +++++++++++++++++++++\n",
        "\n",
        "\n",
        "\n",
        "mipipe = Pipeline(steps=[('ct',columnasTransformer),('m', elmodelo_RF)])\n",
        "\n",
        "train_sizes, train_scores, val_scores = learning_curve(estimator=mipipe,\n",
        "                                                        X=Xtrain,\n",
        "                                                        y=np.ravel(ytrainlog),\n",
        "                                                        cv=5,\n",
        "                                                        train_sizes= np.linspace(0.1, 1.0, 10),\n",
        "                                                        scoring= 'neg_mean_squared_error',  # error MSE\n",
        "                                                        n_jobs=-1)\n",
        "\n",
        "\n",
        "\n",
        "# Calculamos los promedios y desviación estándar de entrenamiento para MSE.\n",
        "# El negativo es porque sklearn nos devuelve en realidad el negativo del error\n",
        "# cuadrático medio MSE.\n",
        "\n",
        "mse_train_scores = -train_scores\n",
        "mse_val_scores = -val_scores\n",
        "\n",
        "train_mean = np.mean(mse_train_scores, axis=1)\n",
        "train_mse = np.std(mse_train_scores, axis=1, ddof=1)\n",
        "val_mean = np.mean(mse_val_scores, axis=1)\n",
        "val_mse = np.std(mse_val_scores, axis=1, ddof=1)\n",
        "\n",
        "\n",
        "plt.plot(train_sizes, train_mean, color='blue', marker='o', markersize=5, label='Training MSE')\n",
        "plt.fill_between(train_sizes, train_mean + train_mse, train_mean - train_mse, alpha=0.15, color='blue')\n",
        "\n",
        "plt.plot(train_sizes, val_mean, color='green', marker='+', markersize=5, linestyle='--', label='Validation MSE')\n",
        "plt.fill_between(train_sizes, val_mean + val_mse, val_mean - val_mse, alpha=0.15, color='green')\n",
        "\n",
        "plt.title('Curvas de Aprendizaje (Learning Curves)')\n",
        "plt.xlabel('Tamaño de la muestra de entrenamiento')\n",
        "plt.ylabel('Error MSE')\n",
        "plt.grid()\n",
        "plt.legend(loc='lower right')\n",
        "plt.show()\n"
      ]
    },
    {
      "cell_type": "code",
      "execution_count": null,
      "metadata": {
        "id": "5yEGf3-ft3cO"
      },
      "outputs": [],
      "source": [
        "# Ejercicio 4b.\n",
        "\n",
        "# Una vez que verifiques que no está sobreentrenado o subentrenado el modelo,\n",
        "# podemos calcular el MSE del mejor ajuste con los datos de Prueba.\n",
        "# Incluye los valores de tus mejores hiperparámetros encontrados del RandomForest.\n",
        "\n",
        "# ++++++++++++++ Incluye aquí tus ajustes ++++++++++++++++++++++++++++++\n",
        "\n",
        "\n",
        "mejor_modelo_RF = RandomForestRegressor(random_state=1)\n",
        "\n",
        "\n",
        "\n",
        "\n",
        "\n",
        "# +++++++++++++ Tesrmina sección de realizar ajustes +++++++++++++++++++++\n",
        "\n",
        "\n",
        "mipipe = Pipeline(steps=[('ct',columnasTransformer),('m', mejor_modelo_RF)])\n",
        "mipipe.fit(pd.DataFrame(Xtrain, columns=Xtrain.columns), np.ravel(ytrainlog))\n",
        "yhattest_RF = mipipe.predict(Xtest)\n",
        "\n",
        "print('Error MSE(Test) de Random Forest: %.3f' % mean_squared_error(np.ravel(ytestlog), yhattest_RF))"
      ]
    },
    {
      "cell_type": "markdown",
      "metadata": {
        "id": "JC30wsrhG8f4"
      },
      "source": [
        "## **Ejercicio 5**"
      ]
    },
    {
      "cell_type": "code",
      "execution_count": null,
      "metadata": {
        "id": "AcfJ_GTA4yIr"
      },
      "outputs": [],
      "source": [
        "# Ejercicio 5:\n",
        "# Calcula ahora el error porcencual absoluto medio (MAPE por sus siglas en inglés)\n",
        "# del mejor modelo de Random Forest en el conjunto de Prueba (TEST).\n",
        "# Llamarle \"mape\" a dicha variable.\n",
        "\n",
        "\n",
        "# ++++++++++++++ Incluye aquí tus ajustes ++++++++++++++++++++++++++++++\n",
        "\n",
        "\n",
        "None\n",
        "\n",
        "\n",
        "\n",
        "# +++++++++++++ Tesrmina sección de realizar ajustes +++++++++++++++++++++\n",
        "\n",
        "\n",
        "# Imprimimos el resultado de MAPE en porcentaje:\n",
        "print(f\"MAPE: {mape:.2f}%\")\n"
      ]
    },
    {
      "cell_type": "markdown",
      "metadata": {
        "id": "HKwEq8z-zS7G"
      },
      "source": [
        "## **Ejercicio 6**"
      ]
    },
    {
      "cell_type": "markdown",
      "metadata": {
        "id": "hLd2iTBMzZ93"
      },
      "source": [
        "### **Repite el mismo proceso del ejercicio con el modelo Bosque Aleatorio (Random Forest) para obtener los mejores modelos no subentrenados y no sobreentrenados, en cada uno de los siguientes casos:**\n",
        "\n",
        "*   **a. Extreme Gradient Boost XGBoost**\n",
        "*   **b. Máquina de Vector Soporte SVM**\n",
        "*   **c. Red Neuronal Perceptrón Multicapa MLP**"
      ]
    },
    {
      "cell_type": "code",
      "execution_count": null,
      "metadata": {
        "id": "uIuE5qYYvhkJ"
      },
      "outputs": [],
      "source": [
        "# Incluye a continuación todas las celdas y líneas de código que consideres\n",
        "# necesarias para responder el Ejercicio 6a, 6b y 6c.\n",
        "\n",
        "\n",
        "\n",
        "\n",
        "None\n",
        "\n",
        "\n"
      ]
    },
    {
      "cell_type": "markdown",
      "metadata": {
        "id": "_MSXjy6i8qRD"
      },
      "source": [
        "## **Ejercicio 7**"
      ]
    },
    {
      "cell_type": "markdown",
      "metadata": {
        "id": "A01wHjjM0eNf"
      },
      "source": [
        "### **Incluye tus conclusiones finales de la Actividad, en particular compara el resultado MAPE de tu mejor modelo del conjunto de Prueba (Test) con el resultado reportado en el artículo de Moro et.al en la sección de conclusiones.**"
      ]
    },
    {
      "cell_type": "markdown",
      "metadata": {
        "id": "aeZrOQkU0x9X"
      },
      "source": [
        "### ++++++++ Inicia la sección de agregar texto: +++++++++++\n",
        "\n",
        "\n",
        "None\n",
        "\n",
        "\n",
        "### ++++++++ Termina la sección de agregar texto. +++++++++++"
      ]
    },
    {
      "cell_type": "markdown",
      "metadata": {
        "id": "6r0YHMtI0ypO"
      },
      "source": [
        "## **Fin de la Actividad de la Semanas 6 y 7**"
      ]
    }
  ],
  "metadata": {
    "colab": {
      "collapsed_sections": [
        "a4Ka79ZTyM0_",
        "JC30wsrhG8f4",
        "HKwEq8z-zS7G",
        "_MSXjy6i8qRD"
      ],
      "provenance": [],
      "include_colab_link": true
    },
    "kernelspec": {
      "display_name": "Python 3",
      "name": "python3"
    },
    "language_info": {
      "name": "python"
    }
  },
  "nbformat": 4,
  "nbformat_minor": 0
}